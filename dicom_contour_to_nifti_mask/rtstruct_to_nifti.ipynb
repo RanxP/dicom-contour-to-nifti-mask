{
 "cells": [
  {
   "cell_type": "markdown",
   "metadata": {
    "id": "QLnNIagTlqBx"
   },
   "source": [
    "# Convert DICOM RTStruct to NIfTI mask\n",
    "\n",
    "This notebook demonstrates how use the rtstruct_to_nifti script to convert a DICOM RTStruct file to NIfTI contour masks."
   ]
  },
  {
   "cell_type": "markdown",
   "metadata": {
    "id": "6wiCrzHRlqB2"
   },
   "source": [
    "## Import required functions"
   ]
  },
  {
   "cell_type": "code",
   "execution_count": null,
   "metadata": {
    "id": "yeICKxKllqB2"
   },
   "outputs": [],
   "source": [
    "import platipy\n",
    "from pathlib import Path\n",
    "import os\n",
    "\n",
    "from platipy.dicom.io.rtstruct_to_nifti import convert_rtstruct\n",
    "from platipy.imaging.tests.data import get_lung_dicom"
   ]
  },
  {
   "cell_type": "markdown",
   "metadata": {
    "id": "_6tYywEjlqB6"
   },
   "source": [
    "## Define the RTSTRUCT and CT image paths\n",
    "\n",
    "The image series is required as the output masks will be generated in the same image space as this series."
   ]
  },
  {
   "cell_type": "code",
   "execution_count": null,
   "metadata": {
    "id": "IjOahrHwlqB7"
   },
   "outputs": [],
   "source": [
    "root_path = \"/data/umcutrecht/original_data/segmented_fibrosis_umc/Fibrosis/data/\"\n",
    "patient_id = 117016\n",
    "ct_path = patient_id.joinpath(\"Pancreas\", patient_id[-2:])\n",
    "rts_path = patient_id.joinpath(\"Pancreas\",\"voi.dcm\")"
   ]
  },
  {
   "cell_type": "markdown",
   "metadata": {
    "id": "1mdAyBoglqB8"
   },
   "source": [
    "## Convert the RTSTRUCT\n",
    "\n",
    "Call the convert_rtstruct function to generate the contours.\n",
    "\n",
    "Optional settings defining the prefix for the mask files generated and the output directory are also passed in to the function."
   ]
  },
  {
   "cell_type": "code",
   "execution_count": null,
   "metadata": {
    "id": "5gvNy8qblqB8"
   },
   "outputs": [],
   "source": [
    "prefix = 'fibrosis' # Define a prefix for generated mask files\n",
    "output_path = Path(\"/data/umcutrecht/umc-ranx/cleaned_fibrosis/\") # The path in which to place generated files\n",
    "output_path.mkdir(parents=True, exist_ok=True)\n",
    "\n",
    "img_out = 'ct_image_' + str(patient_id) # The name of the output image\n",
    "\n",
    "# A list containing the desired image spacing (x,y,z).\n",
    "# A value of 0 indicates that the spacing should not be\n",
    "# changed in that dimension. \n",
    "### default this should be 0,0,0 to have a lossless conversion ###\n",
    "px_space = [0,0,0]\n",
    "\n",
    "# Pass these additional settings to the function as keyword arguments\n",
    "convert_rtstruct(\n",
    "    ct_path,\n",
    "    rts_path,\n",
    "    prefix=prefix,\n",
    "    output_dir=output_path,\n",
    "    output_img=img_out,\n",
    "    spacing=px_space\n",
    ")"
   ]
  },
  {
   "cell_type": "markdown",
   "metadata": {
    "id": "5DqRcr6blqB-"
   },
   "source": [
    "Finally you can look in the `output_path` directory to see the generated NIfTI files!\n",
    "\n",
    "Expect the file to be altered in terms of x,y,z dimention\n",
    "altough dimentions are not changed they are flipped. feet first to head first for example"
   ]
  }
 ],
 "metadata": {
  "colab": {
   "provenance": []
  },
  "kernelspec": {
   "display_name": "Python 3.8.0 ('platipy-Ut1mjAmS-py3.8')",
   "language": "python",
   "name": "python3"
  },
  "language_info": {
   "codemirror_mode": {
    "name": "ipython",
    "version": 3
   },
   "file_extension": ".py",
   "mimetype": "text/x-python",
   "name": "python",
   "nbconvert_exporter": "python",
   "pygments_lexer": "ipython3",
   "version": "3.8.0"
  },
  "vscode": {
   "interpreter": {
    "hash": "950d949bcc8447743ba2e2f4f81e1f06919534c5bd1d053b1a2c5f1f73baee7b"
   }
  }
 },
 "nbformat": 4,
 "nbformat_minor": 0
}
